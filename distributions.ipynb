{
 "cells": [
  {
   "cell_type": "markdown",
   "id": "c4a09737",
   "metadata": {
    "papermill": {
     "duration": 0.007693,
     "end_time": "2022-09-13T10:25:32.283156",
     "exception": false,
     "start_time": "2022-09-13T10:25:32.275463",
     "status": "completed"
    },
    "tags": []
   },
   "source": [
    "**This notebook is an exercise in the [Data Visualization](https://www.kaggle.com/learn/data-visualization) course.  You can reference the tutorial at [this link](https://www.kaggle.com/alexisbcook/distributions).**\n",
    "\n",
    "---\n"
   ]
  },
  {
   "cell_type": "markdown",
   "id": "cf550b99",
   "metadata": {
    "papermill": {
     "duration": 0.006463,
     "end_time": "2022-09-13T10:25:32.296864",
     "exception": false,
     "start_time": "2022-09-13T10:25:32.290401",
     "status": "completed"
    },
    "tags": []
   },
   "source": [
    "In this exercise, you will use your new knowledge to propose a solution to a real-world scenario.  To succeed, you will need to import data into Python, answer questions using the data, and generate **histograms** and **density plots** to understand patterns in the data.\n",
    "\n",
    "## Scenario\n",
    "\n",
    "You'll work with a real-world dataset containing information collected from microscopic images of breast cancer tumors, similar to the image below.\n",
    "\n",
    "![ex4_cancer_image](https://i.imgur.com/qUESsJe.png)\n",
    "\n",
    "Each tumor has been labeled as either [**benign**](https://en.wikipedia.org/wiki/Benign_tumor) (_noncancerous_) or **malignant** (_cancerous_).\n",
    "\n",
    "To learn more about how this kind of data is used to create intelligent algorithms to classify tumors in medical settings, **watch the short video [at this link](https://www.youtube.com/watch?v=9Mz84cwVmS0)**."
   ]
  },
  {
   "cell_type": "markdown",
   "id": "1d36e685",
   "metadata": {
    "papermill": {
     "duration": 0.006523,
     "end_time": "2022-09-13T10:25:32.309816",
     "exception": false,
     "start_time": "2022-09-13T10:25:32.303293",
     "status": "completed"
    },
    "tags": []
   },
   "source": [
    "\n",
    "\n",
    "## Setup\n",
    "\n",
    "Run the next cell to import and configure the Python libraries that you need to complete the exercise."
   ]
  },
  {
   "cell_type": "code",
   "execution_count": 1,
   "id": "405d64f6",
   "metadata": {
    "execution": {
     "iopub.execute_input": "2022-09-13T10:25:32.327107Z",
     "iopub.status.busy": "2022-09-13T10:25:32.325585Z",
     "iopub.status.idle": "2022-09-13T10:25:33.393079Z",
     "shell.execute_reply": "2022-09-13T10:25:33.391795Z"
    },
    "papermill": {
     "duration": 1.079262,
     "end_time": "2022-09-13T10:25:33.396552",
     "exception": false,
     "start_time": "2022-09-13T10:25:32.317290",
     "status": "completed"
    },
    "tags": []
   },
   "outputs": [
    {
     "name": "stdout",
     "output_type": "stream",
     "text": [
      "Setup Complete\n"
     ]
    }
   ],
   "source": [
    "import pandas as pd\n",
    "pd.plotting.register_matplotlib_converters()\n",
    "import matplotlib.pyplot as plt\n",
    "%matplotlib inline\n",
    "import seaborn as sns\n",
    "print(\"Setup Complete\")"
   ]
  },
  {
   "cell_type": "markdown",
   "id": "0c2e3544",
   "metadata": {
    "papermill": {
     "duration": 0.006116,
     "end_time": "2022-09-13T10:25:33.409961",
     "exception": false,
     "start_time": "2022-09-13T10:25:33.403845",
     "status": "completed"
    },
    "tags": []
   },
   "source": [
    "The questions below will give you feedback on your work. Run the following cell to set up our feedback system."
   ]
  },
  {
   "cell_type": "code",
   "execution_count": 2,
   "id": "bdb0a566",
   "metadata": {
    "execution": {
     "iopub.execute_input": "2022-09-13T10:25:33.424395Z",
     "iopub.status.busy": "2022-09-13T10:25:33.423979Z",
     "iopub.status.idle": "2022-09-13T10:25:53.498013Z",
     "shell.execute_reply": "2022-09-13T10:25:53.496609Z"
    },
    "papermill": {
     "duration": 20.084451,
     "end_time": "2022-09-13T10:25:53.500769",
     "exception": false,
     "start_time": "2022-09-13T10:25:33.416318",
     "status": "completed"
    },
    "tags": []
   },
   "outputs": [
    {
     "name": "stdout",
     "output_type": "stream",
     "text": [
      "Collecting git+https://github.com/Kaggle/learntools.git@master\r\n",
      "  Cloning https://github.com/Kaggle/learntools.git (to revision master) to /tmp/pip-req-build-bj_v0f4u\r\n",
      "  Running command git clone --filter=blob:none --quiet https://github.com/Kaggle/learntools.git /tmp/pip-req-build-bj_v0f4u\r\n",
      "  Resolved https://github.com/Kaggle/learntools.git to commit 52baf8d2c752fbcc4d7a43042ca7418388e3b1af\r\n",
      "  Preparing metadata (setup.py) ... \u001b[?25l-\b \bdone\r\n",
      "\u001b[?25hBuilding wheels for collected packages: learntools\r\n",
      "  Building wheel for learntools (setup.py) ... \u001b[?25l-\b \b\\\b \b|\b \b/\b \bdone\r\n",
      "\u001b[?25h  Created wheel for learntools: filename=learntools-0.3.4-py3-none-any.whl size=267787 sha256=6393abbd4b735f2b2ac19178a1410b6a7aa909c1bacfdcfa91b7ce609bf0605e\r\n",
      "  Stored in directory: /tmp/pip-ephem-wheel-cache-vkggjl31/wheels/96/98/04/32b386c4641f1aea964eebb0148dc4632b25195ed8e54869c8\r\n",
      "Successfully built learntools\r\n",
      "Installing collected packages: learntools\r\n",
      "Successfully installed learntools-0.3.4\r\n",
      "\u001b[33mWARNING: Running pip as the 'root' user can result in broken permissions and conflicting behaviour with the system package manager. It is recommended to use a virtual environment instead: https://pip.pypa.io/warnings/venv\u001b[0m\u001b[33m\r\n",
      "\u001b[0mSetup Complete\n"
     ]
    }
   ],
   "source": [
    "# Set up code checking\n",
    "!pip install -U -t /kaggle/working/ git+https://github.com/Kaggle/learntools.git@master\n",
    "from learntools.core import binder\n",
    "binder.bind(globals())\n",
    "from learntools.data_viz_to_coder.ex5 import *\n",
    "print(\"Setup Complete\")"
   ]
  },
  {
   "cell_type": "markdown",
   "id": "eef34935",
   "metadata": {
    "papermill": {
     "duration": 0.006956,
     "end_time": "2022-09-13T10:25:53.515041",
     "exception": false,
     "start_time": "2022-09-13T10:25:53.508085",
     "status": "completed"
    },
    "tags": []
   },
   "source": [
    "## Step 1: Load the data\n",
    "\n",
    "In this step, you will load the data.\n",
    "- Load the data file into a DataFrame called `cancer_data`.  \n",
    "- The corresponding filepath is `cancer_filepath`.  \n",
    "- Use the `\"Id\"` column to label the rows."
   ]
  },
  {
   "cell_type": "code",
   "execution_count": 3,
   "id": "c9be14d8",
   "metadata": {
    "execution": {
     "iopub.execute_input": "2022-09-13T10:25:53.532063Z",
     "iopub.status.busy": "2022-09-13T10:25:53.530929Z",
     "iopub.status.idle": "2022-09-13T10:25:53.551978Z",
     "shell.execute_reply": "2022-09-13T10:25:53.550890Z"
    },
    "papermill": {
     "duration": 0.03209,
     "end_time": "2022-09-13T10:25:53.554201",
     "exception": false,
     "start_time": "2022-09-13T10:25:53.522111",
     "status": "completed"
    },
    "tags": []
   },
   "outputs": [
    {
     "data": {
      "application/javascript": [
       "parent.postMessage({\"jupyterEvent\": \"custom.exercise_interaction\", \"data\": {\"outcomeType\": 1, \"valueTowardsCompletion\": 0.5, \"interactionType\": 1, \"questionType\": 1, \"questionId\": \"1_LoadCancerData\", \"learnToolsVersion\": \"0.3.4\", \"failureMessage\": \"\", \"exceptionClass\": \"\", \"trace\": \"\"}}, \"*\")"
      ],
      "text/plain": [
       "<IPython.core.display.Javascript object>"
      ]
     },
     "metadata": {},
     "output_type": "display_data"
    },
    {
     "data": {
      "text/markdown": [
       "<span style=\"color:#33cc33\">Correct</span>"
      ],
      "text/plain": [
       "Correct"
      ]
     },
     "metadata": {},
     "output_type": "display_data"
    }
   ],
   "source": [
    "# Path of the files to read\n",
    "cancer_filepath = \"../input/cancer.csv\"\n",
    "\n",
    "# Fill in the line below to read the file into a variable cancer_data\n",
    "cancer_data = pd.read_csv(\"../input/cancer.csv\",index_col='Id')\n",
    "# Run the line below with no changes to check that you've loaded the data correctly\n",
    "step_1.check()"
   ]
  },
  {
   "cell_type": "code",
   "execution_count": 4,
   "id": "b0ae66b3",
   "metadata": {
    "execution": {
     "iopub.execute_input": "2022-09-13T10:25:53.570415Z",
     "iopub.status.busy": "2022-09-13T10:25:53.570006Z",
     "iopub.status.idle": "2022-09-13T10:25:53.574082Z",
     "shell.execute_reply": "2022-09-13T10:25:53.573295Z"
    },
    "papermill": {
     "duration": 0.014472,
     "end_time": "2022-09-13T10:25:53.576062",
     "exception": false,
     "start_time": "2022-09-13T10:25:53.561590",
     "status": "completed"
    },
    "tags": []
   },
   "outputs": [],
   "source": [
    "# Lines below will give you a hint or solution code\n",
    "#step_1.hint()\n",
    "#step_1.solution()"
   ]
  },
  {
   "cell_type": "markdown",
   "id": "c40f351b",
   "metadata": {
    "papermill": {
     "duration": 0.007079,
     "end_time": "2022-09-13T10:25:53.590563",
     "exception": false,
     "start_time": "2022-09-13T10:25:53.583484",
     "status": "completed"
    },
    "tags": []
   },
   "source": [
    "## Step 2: Review the data\n",
    "\n",
    "Use a Python command to print the first 5 rows of the data."
   ]
  },
  {
   "cell_type": "code",
   "execution_count": 5,
   "id": "8af573fa",
   "metadata": {
    "execution": {
     "iopub.execute_input": "2022-09-13T10:25:53.608445Z",
     "iopub.status.busy": "2022-09-13T10:25:53.607355Z",
     "iopub.status.idle": "2022-09-13T10:25:53.642089Z",
     "shell.execute_reply": "2022-09-13T10:25:53.641225Z"
    },
    "papermill": {
     "duration": 0.046526,
     "end_time": "2022-09-13T10:25:53.644519",
     "exception": false,
     "start_time": "2022-09-13T10:25:53.597993",
     "status": "completed"
    },
    "tags": []
   },
   "outputs": [
    {
     "data": {
      "text/html": [
       "<div>\n",
       "<style scoped>\n",
       "    .dataframe tbody tr th:only-of-type {\n",
       "        vertical-align: middle;\n",
       "    }\n",
       "\n",
       "    .dataframe tbody tr th {\n",
       "        vertical-align: top;\n",
       "    }\n",
       "\n",
       "    .dataframe thead th {\n",
       "        text-align: right;\n",
       "    }\n",
       "</style>\n",
       "<table border=\"1\" class=\"dataframe\">\n",
       "  <thead>\n",
       "    <tr style=\"text-align: right;\">\n",
       "      <th></th>\n",
       "      <th>Diagnosis</th>\n",
       "      <th>Radius (mean)</th>\n",
       "      <th>Texture (mean)</th>\n",
       "      <th>Perimeter (mean)</th>\n",
       "      <th>Area (mean)</th>\n",
       "      <th>Smoothness (mean)</th>\n",
       "      <th>Compactness (mean)</th>\n",
       "      <th>Concavity (mean)</th>\n",
       "      <th>Concave points (mean)</th>\n",
       "      <th>Symmetry (mean)</th>\n",
       "      <th>...</th>\n",
       "      <th>Radius (worst)</th>\n",
       "      <th>Texture (worst)</th>\n",
       "      <th>Perimeter (worst)</th>\n",
       "      <th>Area (worst)</th>\n",
       "      <th>Smoothness (worst)</th>\n",
       "      <th>Compactness (worst)</th>\n",
       "      <th>Concavity (worst)</th>\n",
       "      <th>Concave points (worst)</th>\n",
       "      <th>Symmetry (worst)</th>\n",
       "      <th>Fractal dimension (worst)</th>\n",
       "    </tr>\n",
       "    <tr>\n",
       "      <th>Id</th>\n",
       "      <th></th>\n",
       "      <th></th>\n",
       "      <th></th>\n",
       "      <th></th>\n",
       "      <th></th>\n",
       "      <th></th>\n",
       "      <th></th>\n",
       "      <th></th>\n",
       "      <th></th>\n",
       "      <th></th>\n",
       "      <th></th>\n",
       "      <th></th>\n",
       "      <th></th>\n",
       "      <th></th>\n",
       "      <th></th>\n",
       "      <th></th>\n",
       "      <th></th>\n",
       "      <th></th>\n",
       "      <th></th>\n",
       "      <th></th>\n",
       "      <th></th>\n",
       "    </tr>\n",
       "  </thead>\n",
       "  <tbody>\n",
       "    <tr>\n",
       "      <th>8510426</th>\n",
       "      <td>B</td>\n",
       "      <td>13.540</td>\n",
       "      <td>14.36</td>\n",
       "      <td>87.46</td>\n",
       "      <td>566.3</td>\n",
       "      <td>0.09779</td>\n",
       "      <td>0.08129</td>\n",
       "      <td>0.06664</td>\n",
       "      <td>0.047810</td>\n",
       "      <td>0.1885</td>\n",
       "      <td>...</td>\n",
       "      <td>15.110</td>\n",
       "      <td>19.26</td>\n",
       "      <td>99.70</td>\n",
       "      <td>711.2</td>\n",
       "      <td>0.14400</td>\n",
       "      <td>0.17730</td>\n",
       "      <td>0.23900</td>\n",
       "      <td>0.12880</td>\n",
       "      <td>0.2977</td>\n",
       "      <td>0.07259</td>\n",
       "    </tr>\n",
       "    <tr>\n",
       "      <th>8510653</th>\n",
       "      <td>B</td>\n",
       "      <td>13.080</td>\n",
       "      <td>15.71</td>\n",
       "      <td>85.63</td>\n",
       "      <td>520.0</td>\n",
       "      <td>0.10750</td>\n",
       "      <td>0.12700</td>\n",
       "      <td>0.04568</td>\n",
       "      <td>0.031100</td>\n",
       "      <td>0.1967</td>\n",
       "      <td>...</td>\n",
       "      <td>14.500</td>\n",
       "      <td>20.49</td>\n",
       "      <td>96.09</td>\n",
       "      <td>630.5</td>\n",
       "      <td>0.13120</td>\n",
       "      <td>0.27760</td>\n",
       "      <td>0.18900</td>\n",
       "      <td>0.07283</td>\n",
       "      <td>0.3184</td>\n",
       "      <td>0.08183</td>\n",
       "    </tr>\n",
       "    <tr>\n",
       "      <th>8510824</th>\n",
       "      <td>B</td>\n",
       "      <td>9.504</td>\n",
       "      <td>12.44</td>\n",
       "      <td>60.34</td>\n",
       "      <td>273.9</td>\n",
       "      <td>0.10240</td>\n",
       "      <td>0.06492</td>\n",
       "      <td>0.02956</td>\n",
       "      <td>0.020760</td>\n",
       "      <td>0.1815</td>\n",
       "      <td>...</td>\n",
       "      <td>10.230</td>\n",
       "      <td>15.66</td>\n",
       "      <td>65.13</td>\n",
       "      <td>314.9</td>\n",
       "      <td>0.13240</td>\n",
       "      <td>0.11480</td>\n",
       "      <td>0.08867</td>\n",
       "      <td>0.06227</td>\n",
       "      <td>0.2450</td>\n",
       "      <td>0.07773</td>\n",
       "    </tr>\n",
       "    <tr>\n",
       "      <th>854941</th>\n",
       "      <td>B</td>\n",
       "      <td>13.030</td>\n",
       "      <td>18.42</td>\n",
       "      <td>82.61</td>\n",
       "      <td>523.8</td>\n",
       "      <td>0.08983</td>\n",
       "      <td>0.03766</td>\n",
       "      <td>0.02562</td>\n",
       "      <td>0.029230</td>\n",
       "      <td>0.1467</td>\n",
       "      <td>...</td>\n",
       "      <td>13.300</td>\n",
       "      <td>22.81</td>\n",
       "      <td>84.46</td>\n",
       "      <td>545.9</td>\n",
       "      <td>0.09701</td>\n",
       "      <td>0.04619</td>\n",
       "      <td>0.04833</td>\n",
       "      <td>0.05013</td>\n",
       "      <td>0.1987</td>\n",
       "      <td>0.06169</td>\n",
       "    </tr>\n",
       "    <tr>\n",
       "      <th>85713702</th>\n",
       "      <td>B</td>\n",
       "      <td>8.196</td>\n",
       "      <td>16.84</td>\n",
       "      <td>51.71</td>\n",
       "      <td>201.9</td>\n",
       "      <td>0.08600</td>\n",
       "      <td>0.05943</td>\n",
       "      <td>0.01588</td>\n",
       "      <td>0.005917</td>\n",
       "      <td>0.1769</td>\n",
       "      <td>...</td>\n",
       "      <td>8.964</td>\n",
       "      <td>21.96</td>\n",
       "      <td>57.26</td>\n",
       "      <td>242.2</td>\n",
       "      <td>0.12970</td>\n",
       "      <td>0.13570</td>\n",
       "      <td>0.06880</td>\n",
       "      <td>0.02564</td>\n",
       "      <td>0.3105</td>\n",
       "      <td>0.07409</td>\n",
       "    </tr>\n",
       "  </tbody>\n",
       "</table>\n",
       "<p>5 rows × 31 columns</p>\n",
       "</div>"
      ],
      "text/plain": [
       "         Diagnosis  Radius (mean)  Texture (mean)  Perimeter (mean)  \\\n",
       "Id                                                                    \n",
       "8510426          B         13.540           14.36             87.46   \n",
       "8510653          B         13.080           15.71             85.63   \n",
       "8510824          B          9.504           12.44             60.34   \n",
       "854941           B         13.030           18.42             82.61   \n",
       "85713702         B          8.196           16.84             51.71   \n",
       "\n",
       "          Area (mean)  Smoothness (mean)  Compactness (mean)  \\\n",
       "Id                                                             \n",
       "8510426         566.3            0.09779             0.08129   \n",
       "8510653         520.0            0.10750             0.12700   \n",
       "8510824         273.9            0.10240             0.06492   \n",
       "854941          523.8            0.08983             0.03766   \n",
       "85713702        201.9            0.08600             0.05943   \n",
       "\n",
       "          Concavity (mean)  Concave points (mean)  Symmetry (mean)  ...  \\\n",
       "Id                                                                  ...   \n",
       "8510426            0.06664               0.047810           0.1885  ...   \n",
       "8510653            0.04568               0.031100           0.1967  ...   \n",
       "8510824            0.02956               0.020760           0.1815  ...   \n",
       "854941             0.02562               0.029230           0.1467  ...   \n",
       "85713702           0.01588               0.005917           0.1769  ...   \n",
       "\n",
       "          Radius (worst)  Texture (worst)  Perimeter (worst)  Area (worst)  \\\n",
       "Id                                                                           \n",
       "8510426           15.110            19.26              99.70         711.2   \n",
       "8510653           14.500            20.49              96.09         630.5   \n",
       "8510824           10.230            15.66              65.13         314.9   \n",
       "854941            13.300            22.81              84.46         545.9   \n",
       "85713702           8.964            21.96              57.26         242.2   \n",
       "\n",
       "          Smoothness (worst)  Compactness (worst)  Concavity (worst)  \\\n",
       "Id                                                                     \n",
       "8510426              0.14400              0.17730            0.23900   \n",
       "8510653              0.13120              0.27760            0.18900   \n",
       "8510824              0.13240              0.11480            0.08867   \n",
       "854941               0.09701              0.04619            0.04833   \n",
       "85713702             0.12970              0.13570            0.06880   \n",
       "\n",
       "          Concave points (worst)  Symmetry (worst)  Fractal dimension (worst)  \n",
       "Id                                                                             \n",
       "8510426                  0.12880            0.2977                    0.07259  \n",
       "8510653                  0.07283            0.3184                    0.08183  \n",
       "8510824                  0.06227            0.2450                    0.07773  \n",
       "854941                   0.05013            0.1987                    0.06169  \n",
       "85713702                 0.02564            0.3105                    0.07409  \n",
       "\n",
       "[5 rows x 31 columns]"
      ]
     },
     "execution_count": 5,
     "metadata": {},
     "output_type": "execute_result"
    }
   ],
   "source": [
    "# Print the first five rows of the data\n",
    "____ # Your code here\n",
    "cancer_data.head()"
   ]
  },
  {
   "cell_type": "markdown",
   "id": "1fc522ba",
   "metadata": {
    "papermill": {
     "duration": 0.007583,
     "end_time": "2022-09-13T10:25:53.660186",
     "exception": false,
     "start_time": "2022-09-13T10:25:53.652603",
     "status": "completed"
    },
    "tags": []
   },
   "source": [
    "In the dataset, each row corresponds to a different image.  The dataset has 31 different columns, corresponding to:\n",
    "- 1 column (`'Diagnosis'`) that classifies tumors as either benign (which appears in the dataset as **`B`**) or malignant (__`M`__), and\n",
    "- 30 columns containing different measurements collected from the images.\n",
    "\n",
    "Use the first 5 rows of the data to answer the questions below."
   ]
  },
  {
   "cell_type": "code",
   "execution_count": 6,
   "id": "0809d781",
   "metadata": {
    "execution": {
     "iopub.execute_input": "2022-09-13T10:25:53.678129Z",
     "iopub.status.busy": "2022-09-13T10:25:53.677499Z",
     "iopub.status.idle": "2022-09-13T10:25:53.686684Z",
     "shell.execute_reply": "2022-09-13T10:25:53.685793Z"
    },
    "papermill": {
     "duration": 0.020686,
     "end_time": "2022-09-13T10:25:53.688783",
     "exception": false,
     "start_time": "2022-09-13T10:25:53.668097",
     "status": "completed"
    },
    "tags": []
   },
   "outputs": [
    {
     "data": {
      "application/javascript": [
       "parent.postMessage({\"jupyterEvent\": \"custom.exercise_interaction\", \"data\": {\"outcomeType\": 1, \"valueTowardsCompletion\": 0.5, \"interactionType\": 1, \"questionType\": 1, \"questionId\": \"2_ReviewData\", \"learnToolsVersion\": \"0.3.4\", \"failureMessage\": \"\", \"exceptionClass\": \"\", \"trace\": \"\"}}, \"*\")"
      ],
      "text/plain": [
       "<IPython.core.display.Javascript object>"
      ]
     },
     "metadata": {},
     "output_type": "display_data"
    },
    {
     "data": {
      "text/markdown": [
       "<span style=\"color:#33cc33\">Correct</span>"
      ],
      "text/plain": [
       "Correct"
      ]
     },
     "metadata": {},
     "output_type": "display_data"
    }
   ],
   "source": [
    "# Fill in the line below: In the first five rows of the data, what is the\n",
    "# largest value for 'Perimeter (mean)'?\n",
    "max_perim = 87.46\n",
    "# Fill in the line below: What is the value for 'Radius (mean)' for the tumor with Id 8510824?\n",
    "mean_radius = 9.504\n",
    "\n",
    "# Check your answers\n",
    "step_2.check()"
   ]
  },
  {
   "cell_type": "code",
   "execution_count": 7,
   "id": "711c5c1c",
   "metadata": {
    "execution": {
     "iopub.execute_input": "2022-09-13T10:25:53.707313Z",
     "iopub.status.busy": "2022-09-13T10:25:53.706653Z",
     "iopub.status.idle": "2022-09-13T10:25:53.711211Z",
     "shell.execute_reply": "2022-09-13T10:25:53.710303Z"
    },
    "papermill": {
     "duration": 0.016773,
     "end_time": "2022-09-13T10:25:53.713714",
     "exception": false,
     "start_time": "2022-09-13T10:25:53.696941",
     "status": "completed"
    },
    "tags": []
   },
   "outputs": [],
   "source": [
    "# Lines below will give you a hint or solution code\n",
    "#step_2.hint()\n",
    "#step_2.solution()"
   ]
  },
  {
   "cell_type": "markdown",
   "id": "5e07d16e",
   "metadata": {
    "papermill": {
     "duration": 0.0079,
     "end_time": "2022-09-13T10:25:53.729755",
     "exception": false,
     "start_time": "2022-09-13T10:25:53.721855",
     "status": "completed"
    },
    "tags": []
   },
   "source": [
    "## Step 3: Investigating differences"
   ]
  },
  {
   "cell_type": "markdown",
   "id": "595f86ff",
   "metadata": {
    "papermill": {
     "duration": 0.007818,
     "end_time": "2022-09-13T10:25:53.745657",
     "exception": false,
     "start_time": "2022-09-13T10:25:53.737839",
     "status": "completed"
    },
    "tags": []
   },
   "source": [
    "#### Part A\n",
    "\n",
    "Use the code cell below to create two histograms that show the distribution in values for `'Area (mean)'`, separately for both benign and malignant tumors.  (_To permit easy comparison, create a single figure containing both histograms in the code cell below._)"
   ]
  },
  {
   "cell_type": "code",
   "execution_count": 8,
   "id": "bf003828",
   "metadata": {
    "execution": {
     "iopub.execute_input": "2022-09-13T10:25:53.763465Z",
     "iopub.status.busy": "2022-09-13T10:25:53.763065Z",
     "iopub.status.idle": "2022-09-13T10:25:54.166896Z",
     "shell.execute_reply": "2022-09-13T10:25:54.166023Z"
    },
    "papermill": {
     "duration": 0.415502,
     "end_time": "2022-09-13T10:25:54.169223",
     "exception": false,
     "start_time": "2022-09-13T10:25:53.753721",
     "status": "completed"
    },
    "tags": []
   },
   "outputs": [
    {
     "data": {
      "application/javascript": [
       "parent.postMessage({\"jupyterEvent\": \"custom.exercise_interaction\", \"data\": {\"outcomeType\": 1, \"valueTowardsCompletion\": 0.5, \"interactionType\": 1, \"questionType\": 2, \"questionId\": \"3.1_PlotHist\", \"learnToolsVersion\": \"0.3.4\", \"failureMessage\": \"\", \"exceptionClass\": \"\", \"trace\": \"\"}}, \"*\")"
      ],
      "text/plain": [
       "<IPython.core.display.Javascript object>"
      ]
     },
     "metadata": {},
     "output_type": "display_data"
    },
    {
     "data": {
      "text/markdown": [
       "<span style=\"color:#33cc33\">Correct</span>"
      ],
      "text/plain": [
       "Correct"
      ]
     },
     "metadata": {},
     "output_type": "display_data"
    },
    {
     "data": {
      "image/png": "[encoded data removed]",
      "text/plain": [
       "<Figure size 576x360 with 1 Axes>"
      ]
     },
     "metadata": {
      "needs_background": "light"
     },
     "output_type": "display_data"
    }
   ],
   "source": [
    "# Histograms for benign and maligant tumors\n",
    "____\n",
    "plt.figure(figsize=[8,5])\n",
    "sns.histplot(data=cancer_data,x='Area (mean)',hue='Diagnosis')\n",
    "\n",
    "# Check your answer\n",
    "step_3.a.check()"
   ]
  },
  {
   "cell_type": "code",
   "execution_count": 9,
   "id": "95df6f67",
   "metadata": {
    "execution": {
     "iopub.execute_input": "2022-09-13T10:25:54.188809Z",
     "iopub.status.busy": "2022-09-13T10:25:54.188376Z",
     "iopub.status.idle": "2022-09-13T10:25:54.193299Z",
     "shell.execute_reply": "2022-09-13T10:25:54.191990Z"
    },
    "papermill": {
     "duration": 0.017617,
     "end_time": "2022-09-13T10:25:54.195806",
     "exception": false,
     "start_time": "2022-09-13T10:25:54.178189",
     "status": "completed"
    },
    "tags": []
   },
   "outputs": [],
   "source": [
    "# Lines below will give you a hint or solution code\n",
    "#step_3.a.hint()\n",
    "#step_3.a.solution_plot()"
   ]
  },
  {
   "cell_type": "markdown",
   "id": "6fe9008c",
   "metadata": {
    "papermill": {
     "duration": 0.009139,
     "end_time": "2022-09-13T10:25:54.213874",
     "exception": false,
     "start_time": "2022-09-13T10:25:54.204735",
     "status": "completed"
    },
    "tags": []
   },
   "source": [
    "#### Part B\n",
    "\n",
    "A researcher approaches you for help with identifying how the `'Area (mean)'` column can be used to understand the difference between benign and malignant tumors.  Based on the histograms above, \n",
    "- Do malignant tumors have higher or lower values for `'Area (mean)'` (relative to benign tumors), on average?\n",
    "- Which tumor type seems to have a larger range of potential values?"
   ]
  },
  {
   "cell_type": "code",
   "execution_count": 10,
   "id": "a5ea9edf",
   "metadata": {
    "execution": {
     "iopub.execute_input": "2022-09-13T10:25:54.234514Z",
     "iopub.status.busy": "2022-09-13T10:25:54.233482Z",
     "iopub.status.idle": "2022-09-13T10:25:54.240970Z",
     "shell.execute_reply": "2022-09-13T10:25:54.239204Z"
    },
    "papermill": {
     "duration": 0.020386,
     "end_time": "2022-09-13T10:25:54.243492",
     "exception": false,
     "start_time": "2022-09-13T10:25:54.223106",
     "status": "completed"
    },
    "tags": []
   },
   "outputs": [
    {
     "name": "stdout",
     "output_type": "stream",
     "text": [
      "Malignant have higher value of Area\n"
     ]
    }
   ],
   "source": [
    "#step_3.b.hint()\n",
    "print(\"Malignant have higher value of Area\")"
   ]
  },
  {
   "cell_type": "code",
   "execution_count": 11,
   "id": "4ffae4bd",
   "metadata": {
    "execution": {
     "iopub.execute_input": "2022-09-13T10:25:54.264098Z",
     "iopub.status.busy": "2022-09-13T10:25:54.263271Z",
     "iopub.status.idle": "2022-09-13T10:25:54.268103Z",
     "shell.execute_reply": "2022-09-13T10:25:54.267273Z"
    },
    "papermill": {
     "duration": 0.01792,
     "end_time": "2022-09-13T10:25:54.270462",
     "exception": false,
     "start_time": "2022-09-13T10:25:54.252542",
     "status": "completed"
    },
    "tags": []
   },
   "outputs": [],
   "source": [
    "# Check your answer (Run this code cell to receive credit!)\n",
    "#step_3.b.solution()"
   ]
  },
  {
   "cell_type": "markdown",
   "id": "52601436",
   "metadata": {
    "papermill": {
     "duration": 0.008402,
     "end_time": "2022-09-13T10:25:54.287536",
     "exception": false,
     "start_time": "2022-09-13T10:25:54.279134",
     "status": "completed"
    },
    "tags": []
   },
   "source": [
    "## Step 4: A very useful column\n",
    "\n",
    "#### Part A\n",
    "\n",
    "Use the code cell below to create two KDE plots that show the distribution in values for `'Radius (worst)'`, separately for both benign and malignant tumors.  (_To permit easy comparison, create a single figure containing both KDE plots in the code cell below._)"
   ]
  },
  {
   "cell_type": "code",
   "execution_count": 12,
   "id": "8f0c15ca",
   "metadata": {
    "execution": {
     "iopub.execute_input": "2022-09-13T10:25:54.307185Z",
     "iopub.status.busy": "2022-09-13T10:25:54.306416Z",
     "iopub.status.idle": "2022-09-13T10:25:54.574121Z",
     "shell.execute_reply": "2022-09-13T10:25:54.573043Z"
    },
    "papermill": {
     "duration": 0.280267,
     "end_time": "2022-09-13T10:25:54.576591",
     "exception": false,
     "start_time": "2022-09-13T10:25:54.296324",
     "status": "completed"
    },
    "tags": []
   },
   "outputs": [
    {
     "data": {
      "application/javascript": [
       "parent.postMessage({\"jupyterEvent\": \"custom.exercise_interaction\", \"data\": {\"outcomeType\": 1, \"valueTowardsCompletion\": 0.5, \"interactionType\": 1, \"questionType\": 2, \"questionId\": \"4.1_PlotThreshold\", \"learnToolsVersion\": \"0.3.4\", \"failureMessage\": \"\", \"exceptionClass\": \"\", \"trace\": \"\"}}, \"*\")"
      ],
      "text/plain": [
       "<IPython.core.display.Javascript object>"
      ]
     },
     "metadata": {},
     "output_type": "display_data"
    },
    {
     "data": {
      "text/markdown": [
       "<span style=\"color:#33cc33\">Correct</span>"
      ],
      "text/plain": [
       "Correct"
      ]
     },
     "metadata": {},
     "output_type": "display_data"
    },
    {
     "data": {
      "image/png": "[encoded data removed]",
      "text/plain": [
       "<Figure size 432x288 with 1 Axes>"
      ]
     },
     "metadata": {
      "needs_background": "light"
     },
     "output_type": "display_data"
    }
   ],
   "source": [
    "# KDE plots for benign and malignant tumors\n",
    "____ \n",
    "sns.kdeplot(data=cancer_data, x=\"Radius (worst)\", hue=\"Diagnosis\")\n",
    "# Check your answer\n",
    "step_4.a.check()"
   ]
  },
  {
   "cell_type": "code",
   "execution_count": 13,
   "id": "161111a9",
   "metadata": {
    "execution": {
     "iopub.execute_input": "2022-09-13T10:25:54.597691Z",
     "iopub.status.busy": "2022-09-13T10:25:54.596715Z",
     "iopub.status.idle": "2022-09-13T10:25:54.601355Z",
     "shell.execute_reply": "2022-09-13T10:25:54.600322Z"
    },
    "papermill": {
     "duration": 0.017519,
     "end_time": "2022-09-13T10:25:54.603656",
     "exception": false,
     "start_time": "2022-09-13T10:25:54.586137",
     "status": "completed"
    },
    "tags": []
   },
   "outputs": [],
   "source": [
    "# Lines below will give you a hint or solution code\n",
    "#step_4.a.hint()\n",
    "#step_4.a.solution_plot()"
   ]
  },
  {
   "cell_type": "markdown",
   "id": "5454cd1e",
   "metadata": {
    "papermill": {
     "duration": 0.00892,
     "end_time": "2022-09-13T10:25:54.621801",
     "exception": false,
     "start_time": "2022-09-13T10:25:54.612881",
     "status": "completed"
    },
    "tags": []
   },
   "source": [
    "#### Part B\n",
    "\n",
    "A hospital has recently started using an algorithm that can diagnose tumors with high accuracy.  Given a tumor with a value for `'Radius (worst)'` of 25, do you think the algorithm is more likely to classify the tumor as benign or malignant?"
   ]
  },
  {
   "cell_type": "code",
   "execution_count": 14,
   "id": "f339ecf9",
   "metadata": {
    "execution": {
     "iopub.execute_input": "2022-09-13T10:25:54.641868Z",
     "iopub.status.busy": "2022-09-13T10:25:54.641479Z",
     "iopub.status.idle": "2022-09-13T10:25:54.646625Z",
     "shell.execute_reply": "2022-09-13T10:25:54.645657Z"
    },
    "papermill": {
     "duration": 0.017724,
     "end_time": "2022-09-13T10:25:54.648819",
     "exception": false,
     "start_time": "2022-09-13T10:25:54.631095",
     "status": "completed"
    },
    "tags": []
   },
   "outputs": [],
   "source": [
    "#step_4.b.hint()"
   ]
  },
  {
   "cell_type": "code",
   "execution_count": 15,
   "id": "806afcc5",
   "metadata": {
    "execution": {
     "iopub.execute_input": "2022-09-13T10:25:54.669658Z",
     "iopub.status.busy": "2022-09-13T10:25:54.668988Z",
     "iopub.status.idle": "2022-09-13T10:25:54.677887Z",
     "shell.execute_reply": "2022-09-13T10:25:54.676993Z"
    },
    "papermill": {
     "duration": 0.021918,
     "end_time": "2022-09-13T10:25:54.680018",
     "exception": false,
     "start_time": "2022-09-13T10:25:54.658100",
     "status": "completed"
    },
    "tags": []
   },
   "outputs": [
    {
     "data": {
      "application/javascript": [
       "parent.postMessage({\"jupyterEvent\": \"custom.exercise_interaction\", \"data\": {\"interactionType\": 3, \"questionType\": 4, \"questionId\": \"4.2_ThinkThreshold\", \"learnToolsVersion\": \"0.3.4\", \"valueTowardsCompletion\": 0.0, \"failureMessage\": \"\", \"exceptionClass\": \"\", \"trace\": \"\", \"outcomeType\": 4}}, \"*\")"
      ],
      "text/plain": [
       "<IPython.core.display.Javascript object>"
      ]
     },
     "metadata": {},
     "output_type": "display_data"
    },
    {
     "data": {
      "text/markdown": [
       "<span style=\"color:#33cc99\">Solution:</span> The algorithm is more likely to classify the tumor as malignant. This is because the curve for malignant tumors is much higher than the curve for benign tumors around a value of 25 -- and an algorithm that gets high accuracy is likely to make decisions based on this pattern in the data."
      ],
      "text/plain": [
       "Solution: The algorithm is more likely to classify the tumor as malignant. This is because the curve for malignant tumors is much higher than the curve for benign tumors around a value of 25 -- and an algorithm that gets high accuracy is likely to make decisions based on this pattern in the data."
      ]
     },
     "metadata": {},
     "output_type": "display_data"
    }
   ],
   "source": [
    "# Check your answer (Run this code cell to receive credit!)\n",
    "step_4.b.solution()"
   ]
  },
  {
   "cell_type": "markdown",
   "id": "fbd7d174",
   "metadata": {
    "papermill": {
     "duration": 0.009217,
     "end_time": "2022-09-13T10:25:54.698737",
     "exception": false,
     "start_time": "2022-09-13T10:25:54.689520",
     "status": "completed"
    },
    "tags": []
   },
   "source": [
    "## Keep going\n",
    "\n",
    "Review all that you've learned and explore how to further customize your plots in the **[next tutorial](https://www.kaggle.com/alexisbcook/choosing-plot-types-and-custom-styles)**!"
   ]
  },
  {
   "cell_type": "markdown",
   "id": "4752ab8c",
   "metadata": {
    "papermill": {
     "duration": 0.009685,
     "end_time": "2022-09-13T10:25:54.718210",
     "exception": false,
     "start_time": "2022-09-13T10:25:54.708525",
     "status": "completed"
    },
    "tags": []
   },
   "source": [
    "---\n",
    "\n",
    "\n",
    "\n",
    "\n",
    "*Have questions or comments? Visit the [course discussion forum](https://www.kaggle.com/learn/data-visualization/discussion) to chat with other learners.*"
   ]
  }
 ],
 "metadata": {
  "kernelspec": {
   "display_name": "Python 3",
   "language": "python",
   "name": "python3"
  },
  "language_info": {
   "codemirror_mode": {
    "name": "ipython",
    "version": 3
   },
   "file_extension": ".py",
   "mimetype": "text/x-python",
   "name": "python",
   "nbconvert_exporter": "python",
   "pygments_lexer": "ipython3",
   "version": "3.7.12"
  },
  "papermill": {
   "default_parameters": {},
   "duration": 32.144584,
   "end_time": "2022-09-13T10:25:55.450467",
   "environment_variables": {},
   "exception": null,
   "input_path": "__notebook__.ipynb",
   "output_path": "__notebook__.ipynb",
   "parameters": {},
   "start_time": "2022-09-13T10:25:23.305883",
   "version": "2.3.4"
  }
 },
 "nbformat": 4,
 "nbformat_minor": 5
}
