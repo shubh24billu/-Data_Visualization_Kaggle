{
 "cells": [
  {
   "cell_type": "markdown",
   "id": "d6cf4c68",
   "metadata": {
    "papermill": {
     "duration": 0.009942,
     "end_time": "2022-09-12T22:31:43.234086",
     "exception": false,
     "start_time": "2022-09-12T22:31:43.224144",
     "status": "completed"
    },
    "tags": []
   },
   "source": [
    "**This notebook is an exercise in the [Data Visualization](https://www.kaggle.com/learn/data-visualization) course.  You can reference the tutorial at [this link](https://www.kaggle.com/alexisbcook/scatter-plots).**\n",
    "\n",
    "---\n"
   ]
  },
  {
   "cell_type": "markdown",
   "id": "dab3429c",
   "metadata": {
    "papermill": {
     "duration": 0.00826,
     "end_time": "2022-09-12T22:31:43.251133",
     "exception": false,
     "start_time": "2022-09-12T22:31:43.242873",
     "status": "completed"
    },
    "tags": []
   },
   "source": [
    "In this exercise, you will use your new knowledge to propose a solution to a real-world scenario.  To succeed, you will need to import data into Python, answer questions using the data, and generate **scatter plots** to understand patterns in the data.\n",
    "\n",
    "## Scenario\n",
    "\n",
    "You work for a major candy producer, and your goal is to write a report that your company can use to guide the design of its next product.  Soon after starting your research, you stumble across this [very interesting dataset](https://fivethirtyeight.com/features/the-ultimate-halloween-candy-power-ranking/) containing results from a fun survey to crowdsource favorite candies.\n",
    "\n",
    "## Setup\n",
    "\n",
    "Run the next cell to import and configure the Python libraries that you need to complete the exercise."
   ]
  },
  {
   "cell_type": "code",
   "execution_count": 1,
   "id": "314b484d",
   "metadata": {
    "execution": {
     "iopub.execute_input": "2022-09-12T22:31:43.270804Z",
     "iopub.status.busy": "2022-09-12T22:31:43.270191Z",
     "iopub.status.idle": "2022-09-12T22:31:44.380611Z",
     "shell.execute_reply": "2022-09-12T22:31:44.379445Z"
    },
    "papermill": {
     "duration": 1.123674,
     "end_time": "2022-09-12T22:31:44.383365",
     "exception": false,
     "start_time": "2022-09-12T22:31:43.259691",
     "status": "completed"
    },
    "tags": []
   },
   "outputs": [
    {
     "name": "stdout",
     "output_type": "stream",
     "text": [
      "Setup Complete\n"
     ]
    }
   ],
   "source": [
    "import pandas as pd\n",
    "pd.plotting.register_matplotlib_converters()\n",
    "import matplotlib.pyplot as plt\n",
    "%matplotlib inline\n",
    "import seaborn as sns\n",
    "print(\"Setup Complete\")"
   ]
  },
  {
   "cell_type": "markdown",
   "id": "be9f9731",
   "metadata": {
    "papermill": {
     "duration": 0.008159,
     "end_time": "2022-09-12T22:31:44.400295",
     "exception": false,
     "start_time": "2022-09-12T22:31:44.392136",
     "status": "completed"
    },
    "tags": []
   },
   "source": [
    "The questions below will give you feedback on your work. Run the following cell to set up our feedback system."
   ]
  },
  {
   "cell_type": "code",
   "execution_count": 2,
   "id": "2e3fedd4",
   "metadata": {
    "execution": {
     "iopub.execute_input": "2022-09-12T22:31:44.424649Z",
     "iopub.status.busy": "2022-09-12T22:31:44.423338Z",
     "iopub.status.idle": "2022-09-12T22:31:44.498000Z",
     "shell.execute_reply": "2022-09-12T22:31:44.496650Z"
    },
    "papermill": {
     "duration": 0.08842,
     "end_time": "2022-09-12T22:31:44.500726",
     "exception": false,
     "start_time": "2022-09-12T22:31:44.412306",
     "status": "completed"
    },
    "tags": []
   },
   "outputs": [
    {
     "name": "stdout",
     "output_type": "stream",
     "text": [
      "Setup Complete\n"
     ]
    }
   ],
   "source": [
    "# Set up code checking\n",
    "import os\n",
    "if not os.path.exists(\"../input/candy.csv\"):\n",
    "    os.symlink(\"../input/data-for-datavis/candy.csv\", \"../input/candy.csv\") \n",
    "from learntools.core import binder\n",
    "binder.bind(globals())\n",
    "from learntools.data_viz_to_coder.ex4 import *\n",
    "\n",
    "print(\"Setup Complete\")"
   ]
  },
  {
   "cell_type": "markdown",
   "id": "83342343",
   "metadata": {
    "papermill": {
     "duration": 0.008282,
     "end_time": "2022-09-12T22:31:44.517744",
     "exception": false,
     "start_time": "2022-09-12T22:31:44.509462",
     "status": "completed"
    },
    "tags": []
   },
   "source": [
    "## Step 1: Load the Data\n",
    "\n",
    "Read the candy data file into `candy_data`.  Use the `\"id\"` column to label the rows."
   ]
  },
  {
   "cell_type": "code",
   "execution_count": 3,
   "id": "42a870fc",
   "metadata": {
    "execution": {
     "iopub.execute_input": "2022-09-12T22:31:44.539302Z",
     "iopub.status.busy": "2022-09-12T22:31:44.538582Z",
     "iopub.status.idle": "2022-09-12T22:31:44.557326Z",
     "shell.execute_reply": "2022-09-12T22:31:44.556258Z"
    },
    "papermill": {
     "duration": 0.032738,
     "end_time": "2022-09-12T22:31:44.559557",
     "exception": false,
     "start_time": "2022-09-12T22:31:44.526819",
     "status": "completed"
    },
    "tags": []
   },
   "outputs": [
    {
     "data": {
      "application/javascript": [
       "parent.postMessage({\"jupyterEvent\": \"custom.exercise_interaction\", \"data\": {\"outcomeType\": 1, \"valueTowardsCompletion\": 0.3333333333333333, \"interactionType\": 1, \"questionType\": 1, \"questionId\": \"1_LoadData\", \"learnToolsVersion\": \"0.3.4\", \"failureMessage\": \"\", \"exceptionClass\": \"\", \"trace\": \"\"}}, \"*\")"
      ],
      "text/plain": [
       "<IPython.core.display.Javascript object>"
      ]
     },
     "metadata": {},
     "output_type": "display_data"
    },
    {
     "data": {
      "text/markdown": [
       "<span style=\"color:#33cc33\">Correct</span>"
      ],
      "text/plain": [
       "Correct"
      ]
     },
     "metadata": {},
     "output_type": "display_data"
    }
   ],
   "source": [
    "# Path of the file to read\n",
    "candy_filepath = \"../input/candy.csv\"\n",
    "\n",
    "# Fill in the line below to read the file into a variable candy_data\n",
    "candy_data = pd.read_csv(candy_filepath, index_col=\"id\")\n",
    "\n",
    "# Run the line below with no changes to check that you've loaded the data correctly\n",
    "step_1.check()"
   ]
  },
  {
   "cell_type": "code",
   "execution_count": 4,
   "id": "42666047",
   "metadata": {
    "execution": {
     "iopub.execute_input": "2022-09-12T22:31:44.580252Z",
     "iopub.status.busy": "2022-09-12T22:31:44.579837Z",
     "iopub.status.idle": "2022-09-12T22:31:44.584936Z",
     "shell.execute_reply": "2022-09-12T22:31:44.583548Z"
    },
    "papermill": {
     "duration": 0.017336,
     "end_time": "2022-09-12T22:31:44.587069",
     "exception": false,
     "start_time": "2022-09-12T22:31:44.569733",
     "status": "completed"
    },
    "tags": []
   },
   "outputs": [],
   "source": [
    "# Lines below will give you a hint or solution code\n",
    "#step_1.hint()\n",
    "#step_1.solution()"
   ]
  },
  {
   "cell_type": "markdown",
   "id": "f4b888ee",
   "metadata": {
    "papermill": {
     "duration": 0.008599,
     "end_time": "2022-09-12T22:31:44.604641",
     "exception": false,
     "start_time": "2022-09-12T22:31:44.596042",
     "status": "completed"
    },
    "tags": []
   },
   "source": [
    "## Step 2: Review the data\n",
    "\n",
    "Use a Python command to print the first five rows of the data."
   ]
  },
  {
   "cell_type": "code",
   "execution_count": 5,
   "id": "ad2eac6f",
   "metadata": {
    "execution": {
     "iopub.execute_input": "2022-09-12T22:31:44.623761Z",
     "iopub.status.busy": "2022-09-12T22:31:44.623319Z",
     "iopub.status.idle": "2022-09-12T22:31:44.646268Z",
     "shell.execute_reply": "2022-09-12T22:31:44.645125Z"
    },
    "papermill": {
     "duration": 0.035054,
     "end_time": "2022-09-12T22:31:44.648413",
     "exception": false,
     "start_time": "2022-09-12T22:31:44.613359",
     "status": "completed"
    },
    "tags": []
   },
   "outputs": [
    {
     "data": {
      "text/html": [
       "<div>\n",
       "<style scoped>\n",
       "    .dataframe tbody tr th:only-of-type {\n",
       "        vertical-align: middle;\n",
       "    }\n",
       "\n",
       "    .dataframe tbody tr th {\n",
       "        vertical-align: top;\n",
       "    }\n",
       "\n",
       "    .dataframe thead th {\n",
       "        text-align: right;\n",
       "    }\n",
       "</style>\n",
       "<table border=\"1\" class=\"dataframe\">\n",
       "  <thead>\n",
       "    <tr style=\"text-align: right;\">\n",
       "      <th></th>\n",
       "      <th>competitorname</th>\n",
       "      <th>chocolate</th>\n",
       "      <th>fruity</th>\n",
       "      <th>caramel</th>\n",
       "      <th>peanutyalmondy</th>\n",
       "      <th>nougat</th>\n",
       "      <th>crispedricewafer</th>\n",
       "      <th>hard</th>\n",
       "      <th>bar</th>\n",
       "      <th>pluribus</th>\n",
       "      <th>sugarpercent</th>\n",
       "      <th>pricepercent</th>\n",
       "      <th>winpercent</th>\n",
       "    </tr>\n",
       "    <tr>\n",
       "      <th>id</th>\n",
       "      <th></th>\n",
       "      <th></th>\n",
       "      <th></th>\n",
       "      <th></th>\n",
       "      <th></th>\n",
       "      <th></th>\n",
       "      <th></th>\n",
       "      <th></th>\n",
       "      <th></th>\n",
       "      <th></th>\n",
       "      <th></th>\n",
       "      <th></th>\n",
       "      <th></th>\n",
       "    </tr>\n",
       "  </thead>\n",
       "  <tbody>\n",
       "    <tr>\n",
       "      <th>0</th>\n",
       "      <td>100 Grand</td>\n",
       "      <td>Yes</td>\n",
       "      <td>No</td>\n",
       "      <td>Yes</td>\n",
       "      <td>No</td>\n",
       "      <td>No</td>\n",
       "      <td>Yes</td>\n",
       "      <td>No</td>\n",
       "      <td>Yes</td>\n",
       "      <td>No</td>\n",
       "      <td>0.732</td>\n",
       "      <td>0.860</td>\n",
       "      <td>66.971725</td>\n",
       "    </tr>\n",
       "    <tr>\n",
       "      <th>1</th>\n",
       "      <td>3 Musketeers</td>\n",
       "      <td>Yes</td>\n",
       "      <td>No</td>\n",
       "      <td>No</td>\n",
       "      <td>No</td>\n",
       "      <td>Yes</td>\n",
       "      <td>No</td>\n",
       "      <td>No</td>\n",
       "      <td>Yes</td>\n",
       "      <td>No</td>\n",
       "      <td>0.604</td>\n",
       "      <td>0.511</td>\n",
       "      <td>67.602936</td>\n",
       "    </tr>\n",
       "    <tr>\n",
       "      <th>2</th>\n",
       "      <td>Air Heads</td>\n",
       "      <td>No</td>\n",
       "      <td>Yes</td>\n",
       "      <td>No</td>\n",
       "      <td>No</td>\n",
       "      <td>No</td>\n",
       "      <td>No</td>\n",
       "      <td>No</td>\n",
       "      <td>No</td>\n",
       "      <td>No</td>\n",
       "      <td>0.906</td>\n",
       "      <td>0.511</td>\n",
       "      <td>52.341465</td>\n",
       "    </tr>\n",
       "    <tr>\n",
       "      <th>3</th>\n",
       "      <td>Almond Joy</td>\n",
       "      <td>Yes</td>\n",
       "      <td>No</td>\n",
       "      <td>No</td>\n",
       "      <td>Yes</td>\n",
       "      <td>No</td>\n",
       "      <td>No</td>\n",
       "      <td>No</td>\n",
       "      <td>Yes</td>\n",
       "      <td>No</td>\n",
       "      <td>0.465</td>\n",
       "      <td>0.767</td>\n",
       "      <td>50.347546</td>\n",
       "    </tr>\n",
       "    <tr>\n",
       "      <th>4</th>\n",
       "      <td>Baby Ruth</td>\n",
       "      <td>Yes</td>\n",
       "      <td>No</td>\n",
       "      <td>Yes</td>\n",
       "      <td>Yes</td>\n",
       "      <td>Yes</td>\n",
       "      <td>No</td>\n",
       "      <td>No</td>\n",
       "      <td>Yes</td>\n",
       "      <td>No</td>\n",
       "      <td>0.604</td>\n",
       "      <td>0.767</td>\n",
       "      <td>56.914547</td>\n",
       "    </tr>\n",
       "  </tbody>\n",
       "</table>\n",
       "</div>"
      ],
      "text/plain": [
       "   competitorname chocolate fruity caramel peanutyalmondy nougat  \\\n",
       "id                                                                 \n",
       "0       100 Grand       Yes     No     Yes             No     No   \n",
       "1    3 Musketeers       Yes     No      No             No    Yes   \n",
       "2       Air Heads        No    Yes      No             No     No   \n",
       "3      Almond Joy       Yes     No      No            Yes     No   \n",
       "4       Baby Ruth       Yes     No     Yes            Yes    Yes   \n",
       "\n",
       "   crispedricewafer hard  bar pluribus  sugarpercent  pricepercent  winpercent  \n",
       "id                                                                              \n",
       "0               Yes   No  Yes       No         0.732         0.860   66.971725  \n",
       "1                No   No  Yes       No         0.604         0.511   67.602936  \n",
       "2                No   No   No       No         0.906         0.511   52.341465  \n",
       "3                No   No  Yes       No         0.465         0.767   50.347546  \n",
       "4                No   No  Yes       No         0.604         0.767   56.914547  "
      ]
     },
     "execution_count": 5,
     "metadata": {},
     "output_type": "execute_result"
    }
   ],
   "source": [
    "# Print the first five rows of the data\n",
    "____ # Your code here\n",
    "candy_data.head()"
   ]
  },
  {
   "cell_type": "markdown",
   "id": "d1e0f20d",
   "metadata": {
    "papermill": {
     "duration": 0.008797,
     "end_time": "2022-09-12T22:31:44.666458",
     "exception": false,
     "start_time": "2022-09-12T22:31:44.657661",
     "status": "completed"
    },
    "tags": []
   },
   "source": [
    "The dataset contains 83 rows, where each corresponds to a different candy bar.  There are 13 columns:\n",
    "- `'competitorname'` contains the name of the candy bar. \n",
    "- the next **9** columns (from `'chocolate'` to `'pluribus'`) describe the candy.  For instance, rows with chocolate candies have `\"Yes\"` in the `'chocolate'` column (and candies without chocolate have `\"No\"` in the same column).\n",
    "- `'sugarpercent'` provides some indication of the amount of sugar, where higher values signify higher sugar content.\n",
    "- `'pricepercent'` shows the price per unit, relative to the other candies in the dataset.\n",
    "- `'winpercent'` is calculated from the survey results; higher values indicate that the candy was more popular with survey respondents.\n",
    "\n",
    "Use the first five rows of the data to answer the questions below."
   ]
  },
  {
   "cell_type": "code",
   "execution_count": 6,
   "id": "3af1a194",
   "metadata": {
    "execution": {
     "iopub.execute_input": "2022-09-12T22:31:44.686738Z",
     "iopub.status.busy": "2022-09-12T22:31:44.686314Z",
     "iopub.status.idle": "2022-09-12T22:31:44.696100Z",
     "shell.execute_reply": "2022-09-12T22:31:44.694967Z"
    },
    "papermill": {
     "duration": 0.022615,
     "end_time": "2022-09-12T22:31:44.698288",
     "exception": false,
     "start_time": "2022-09-12T22:31:44.675673",
     "status": "completed"
    },
    "tags": []
   },
   "outputs": [
    {
     "data": {
      "application/javascript": [
       "parent.postMessage({\"jupyterEvent\": \"custom.exercise_interaction\", \"data\": {\"outcomeType\": 1, \"valueTowardsCompletion\": 0.3333333333333333, \"interactionType\": 1, \"questionType\": 1, \"questionId\": \"2_ReviewData\", \"learnToolsVersion\": \"0.3.4\", \"failureMessage\": \"\", \"exceptionClass\": \"\", \"trace\": \"\"}}, \"*\")"
      ],
      "text/plain": [
       "<IPython.core.display.Javascript object>"
      ]
     },
     "metadata": {},
     "output_type": "display_data"
    },
    {
     "data": {
      "text/markdown": [
       "<span style=\"color:#33cc33\">Correct</span>"
      ],
      "text/plain": [
       "Correct"
      ]
     },
     "metadata": {},
     "output_type": "display_data"
    }
   ],
   "source": [
    "# Fill in the line below: Which candy was more popular with survey respondents:\n",
    "# '3 Musketeers' or 'Almond Joy'?  (Please enclose your answer in single quotes.)\n",
    "more_popular = '3 Musketeers'\n",
    "\n",
    "# Fill in the line below: Which candy has higher sugar content: 'Air Heads'\n",
    "# or 'Baby Ruth'? (Please enclose your answer in single quotes.)\n",
    "more_sugar = 'Air Heads'\n",
    "\n",
    "# Check your answers\n",
    "step_2.check()"
   ]
  },
  {
   "cell_type": "code",
   "execution_count": 7,
   "id": "1412694a",
   "metadata": {
    "execution": {
     "iopub.execute_input": "2022-09-12T22:31:44.719022Z",
     "iopub.status.busy": "2022-09-12T22:31:44.718612Z",
     "iopub.status.idle": "2022-09-12T22:31:44.723506Z",
     "shell.execute_reply": "2022-09-12T22:31:44.722359Z"
    },
    "papermill": {
     "duration": 0.017925,
     "end_time": "2022-09-12T22:31:44.725796",
     "exception": false,
     "start_time": "2022-09-12T22:31:44.707871",
     "status": "completed"
    },
    "tags": []
   },
   "outputs": [],
   "source": [
    "# Lines below will give you a hint or solution code\n",
    "#step_2.hint()\n",
    "#step_2.solution()"
   ]
  },
  {
   "cell_type": "markdown",
   "id": "f6d87088",
   "metadata": {
    "papermill": {
     "duration": 0.009047,
     "end_time": "2022-09-12T22:31:44.744420",
     "exception": false,
     "start_time": "2022-09-12T22:31:44.735373",
     "status": "completed"
    },
    "tags": []
   },
   "source": [
    "## Step 3: The role of sugar\n",
    "\n",
    "Do people tend to prefer candies with higher sugar content?  \n",
    "\n",
    "#### Part A\n",
    "\n",
    "Create a scatter plot that shows the relationship between `'sugarpercent'` (on the horizontal x-axis) and `'winpercent'` (on the vertical y-axis).  _Don't add a regression line just yet -- you'll do that in the next step!_"
   ]
  },
  {
   "cell_type": "code",
   "execution_count": 8,
   "id": "7f957c0e",
   "metadata": {
    "execution": {
     "iopub.execute_input": "2022-09-12T22:31:44.765078Z",
     "iopub.status.busy": "2022-09-12T22:31:44.764636Z",
     "iopub.status.idle": "2022-09-12T22:31:45.038714Z",
     "shell.execute_reply": "2022-09-12T22:31:45.037863Z"
    },
    "papermill": {
     "duration": 0.286891,
     "end_time": "2022-09-12T22:31:45.040730",
     "exception": false,
     "start_time": "2022-09-12T22:31:44.753839",
     "status": "completed"
    },
    "tags": []
   },
   "outputs": [
    {
     "data": {
      "application/javascript": [
       "parent.postMessage({\"jupyterEvent\": \"custom.exercise_interaction\", \"data\": {\"outcomeType\": 1, \"valueTowardsCompletion\": 0.3333333333333333, \"interactionType\": 1, \"questionType\": 2, \"questionId\": \"3.1_PlotBlueScatter\", \"learnToolsVersion\": \"0.3.4\", \"failureMessage\": \"\", \"exceptionClass\": \"\", \"trace\": \"\"}}, \"*\")"
      ],
      "text/plain": [
       "<IPython.core.display.Javascript object>"
      ]
     },
     "metadata": {},
     "output_type": "display_data"
    },
    {
     "data": {
      "text/markdown": [
       "<span style=\"color:#33cc33\">Correct</span>"
      ],
      "text/plain": [
       "Correct"
      ]
     },
     "metadata": {},
     "output_type": "display_data"
    },
    {
     "data": {
      "image/png": "[encoded data removed]",
      "text/plain": [
       "<Figure size 432x288 with 1 Axes>"
      ]
     },
     "metadata": {
      "needs_background": "light"
     },
     "output_type": "display_data"
    }
   ],
   "source": [
    "# Scatter plot showing the relationship between 'sugarpercent' and 'winpercent'\n",
    "____ # Your code here\n",
    "sns.scatterplot('sugarpercent','winpercent', data=candy_data)\n",
    "# Check your answer\n",
    "step_3.a.check()"
   ]
  },
  {
   "cell_type": "code",
   "execution_count": 9,
   "id": "446df130",
   "metadata": {
    "execution": {
     "iopub.execute_input": "2022-09-12T22:31:45.064222Z",
     "iopub.status.busy": "2022-09-12T22:31:45.063500Z",
     "iopub.status.idle": "2022-09-12T22:31:45.067855Z",
     "shell.execute_reply": "2022-09-12T22:31:45.066841Z"
    },
    "papermill": {
     "duration": 0.019595,
     "end_time": "2022-09-12T22:31:45.070360",
     "exception": false,
     "start_time": "2022-09-12T22:31:45.050765",
     "status": "completed"
    },
    "tags": []
   },
   "outputs": [],
   "source": [
    "# Lines below will give you a hint or solution code\n",
    "#step_3.a.hint()\n",
    "#step_3.a.solution_plot()"
   ]
  },
  {
   "cell_type": "markdown",
   "id": "b30edcaa",
   "metadata": {
    "papermill": {
     "duration": 0.009839,
     "end_time": "2022-09-12T22:31:45.090824",
     "exception": false,
     "start_time": "2022-09-12T22:31:45.080985",
     "status": "completed"
    },
    "tags": []
   },
   "source": [
    "#### Part B\n",
    "\n",
    "Does the scatter plot show a **strong** correlation between the two variables?  If so, are candies with more sugar relatively more or less popular with the survey respondents?"
   ]
  },
  {
   "cell_type": "code",
   "execution_count": 10,
   "id": "17a77aac",
   "metadata": {
    "execution": {
     "iopub.execute_input": "2022-09-12T22:31:45.113292Z",
     "iopub.status.busy": "2022-09-12T22:31:45.112276Z",
     "iopub.status.idle": "2022-09-12T22:31:45.116961Z",
     "shell.execute_reply": "2022-09-12T22:31:45.116242Z"
    },
    "papermill": {
     "duration": 0.018175,
     "end_time": "2022-09-12T22:31:45.119180",
     "exception": false,
     "start_time": "2022-09-12T22:31:45.101005",
     "status": "completed"
    },
    "tags": []
   },
   "outputs": [],
   "source": [
    "#NO\n",
    "#step_3.b.hint()"
   ]
  },
  {
   "cell_type": "code",
   "execution_count": 11,
   "id": "b0a3ae06",
   "metadata": {
    "execution": {
     "iopub.execute_input": "2022-09-12T22:31:45.141657Z",
     "iopub.status.busy": "2022-09-12T22:31:45.140870Z",
     "iopub.status.idle": "2022-09-12T22:31:45.149910Z",
     "shell.execute_reply": "2022-09-12T22:31:45.149068Z"
    },
    "papermill": {
     "duration": 0.022921,
     "end_time": "2022-09-12T22:31:45.152161",
     "exception": false,
     "start_time": "2022-09-12T22:31:45.129240",
     "status": "completed"
    },
    "tags": []
   },
   "outputs": [
    {
     "data": {
      "application/javascript": [
       "parent.postMessage({\"jupyterEvent\": \"custom.exercise_interaction\", \"data\": {\"interactionType\": 3, \"questionType\": 4, \"questionId\": \"3.2_ThinkBlueScatter\", \"learnToolsVersion\": \"0.3.4\", \"valueTowardsCompletion\": 0.0, \"failureMessage\": \"\", \"exceptionClass\": \"\", \"trace\": \"\", \"outcomeType\": 4}}, \"*\")"
      ],
      "text/plain": [
       "<IPython.core.display.Javascript object>"
      ]
     },
     "metadata": {},
     "output_type": "display_data"
    },
    {
     "data": {
      "text/markdown": [
       "<span style=\"color:#33cc99\">Solution:</span> The scatter plot does not show a strong correlation between the two variables. Since there is no clear relationship between the two variables, this tells us that sugar content does not play a strong role in candy popularity."
      ],
      "text/plain": [
       "Solution: The scatter plot does not show a strong correlation between the two variables. Since there is no clear relationship between the two variables, this tells us that sugar content does not play a strong role in candy popularity."
      ]
     },
     "metadata": {},
     "output_type": "display_data"
    }
   ],
   "source": [
    "# Check your answer (Run this code cell to receive credit!)\n",
    "step_3.b.solution()"
   ]
  },
  {
   "cell_type": "markdown",
   "id": "20ea1b46",
   "metadata": {
    "papermill": {
     "duration": 0.009945,
     "end_time": "2022-09-12T22:31:45.172409",
     "exception": false,
     "start_time": "2022-09-12T22:31:45.162464",
     "status": "completed"
    },
    "tags": []
   },
   "source": [
    "## Step 4: Take a closer look\n",
    "\n",
    "#### Part A\n",
    "\n",
    "Create the same scatter plot you created in **Step 3**, but now with a regression line!"
   ]
  },
  {
   "cell_type": "code",
   "execution_count": 12,
   "id": "4213ebb4",
   "metadata": {
    "execution": {
     "iopub.execute_input": "2022-09-12T22:31:45.194655Z",
     "iopub.status.busy": "2022-09-12T22:31:45.194224Z",
     "iopub.status.idle": "2022-09-12T22:31:45.528197Z",
     "shell.execute_reply": "2022-09-12T22:31:45.527219Z"
    },
    "papermill": {
     "duration": 0.348084,
     "end_time": "2022-09-12T22:31:45.530742",
     "exception": false,
     "start_time": "2022-09-12T22:31:45.182658",
     "status": "completed"
    },
    "tags": []
   },
   "outputs": [
    {
     "data": {
      "application/javascript": [
       "parent.postMessage({\"jupyterEvent\": \"custom.exercise_interaction\", \"data\": {\"outcomeType\": 1, \"valueTowardsCompletion\": 0.3333333333333333, \"interactionType\": 1, \"questionType\": 2, \"questionId\": \"4.1_PlotBlueReg\", \"learnToolsVersion\": \"0.3.4\", \"failureMessage\": \"\", \"exceptionClass\": \"\", \"trace\": \"\"}}, \"*\")"
      ],
      "text/plain": [
       "<IPython.core.display.Javascript object>"
      ]
     },
     "metadata": {},
     "output_type": "display_data"
    },
    {
     "data": {
      "text/markdown": [
       "<span style=\"color:#33cc33\">Correct</span>"
      ],
      "text/plain": [
       "Correct"
      ]
     },
     "metadata": {},
     "output_type": "display_data"
    },
    {
     "data": {
      "image/png": "[encoded data removed]",
      "text/plain": [
       "<Figure size 432x288 with 1 Axes>"
      ]
     },
     "metadata": {
      "needs_background": "light"
     },
     "output_type": "display_data"
    }
   ],
   "source": [
    "# Scatter plot w/ regression line showing the relationship between 'sugarpercent' and 'winpercent'\n",
    "____ # Your code here\n",
    "sns.regplot('sugarpercent','winpercent', data=candy_data)\n",
    "\n",
    "# Check your answer\n",
    "step_4.a.check()"
   ]
  },
  {
   "cell_type": "code",
   "execution_count": 13,
   "id": "5ead14a8",
   "metadata": {
    "execution": {
     "iopub.execute_input": "2022-09-12T22:31:45.554963Z",
     "iopub.status.busy": "2022-09-12T22:31:45.554053Z",
     "iopub.status.idle": "2022-09-12T22:31:45.560308Z",
     "shell.execute_reply": "2022-09-12T22:31:45.559237Z"
    },
    "papermill": {
     "duration": 0.021372,
     "end_time": "2022-09-12T22:31:45.563038",
     "exception": false,
     "start_time": "2022-09-12T22:31:45.541666",
     "status": "completed"
    },
    "tags": []
   },
   "outputs": [],
   "source": [
    "# Lines below will give you a hint or solution code\n",
    "#step_4.a.hint()\n",
    "#step_4.a.solution_plot()"
   ]
  },
  {
   "cell_type": "markdown",
   "id": "0315b7bb",
   "metadata": {
    "papermill": {
     "duration": 0.010508,
     "end_time": "2022-09-12T22:31:45.584429",
     "exception": false,
     "start_time": "2022-09-12T22:31:45.573921",
     "status": "completed"
    },
    "tags": []
   },
   "source": [
    "#### Part B\n",
    "\n",
    "According to the plot above, is there a **slight** correlation between `'winpercent'` and `'sugarpercent'`?  What does this tell you about the candy that people tend to prefer?"
   ]
  },
  {
   "cell_type": "code",
   "execution_count": 14,
   "id": "2adb7b09",
   "metadata": {
    "execution": {
     "iopub.execute_input": "2022-09-12T22:31:45.609423Z",
     "iopub.status.busy": "2022-09-12T22:31:45.608649Z",
     "iopub.status.idle": "2022-09-12T22:31:45.613470Z",
     "shell.execute_reply": "2022-09-12T22:31:45.612737Z"
    },
    "papermill": {
     "duration": 0.020015,
     "end_time": "2022-09-12T22:31:45.615771",
     "exception": false,
     "start_time": "2022-09-12T22:31:45.595756",
     "status": "completed"
    },
    "tags": []
   },
   "outputs": [],
   "source": [
    "#step_4.b.hint()"
   ]
  },
  {
   "cell_type": "code",
   "execution_count": 15,
   "id": "c276a7aa",
   "metadata": {
    "execution": {
     "iopub.execute_input": "2022-09-12T22:31:45.639493Z",
     "iopub.status.busy": "2022-09-12T22:31:45.638739Z",
     "iopub.status.idle": "2022-09-12T22:31:45.647895Z",
     "shell.execute_reply": "2022-09-12T22:31:45.646939Z"
    },
    "papermill": {
     "duration": 0.023584,
     "end_time": "2022-09-12T22:31:45.650145",
     "exception": false,
     "start_time": "2022-09-12T22:31:45.626561",
     "status": "completed"
    },
    "tags": []
   },
   "outputs": [
    {
     "data": {
      "application/javascript": [
       "parent.postMessage({\"jupyterEvent\": \"custom.exercise_interaction\", \"data\": {\"interactionType\": 3, \"questionType\": 4, \"questionId\": \"4.2_ThinkBlueReg\", \"learnToolsVersion\": \"0.3.4\", \"valueTowardsCompletion\": 0.0, \"failureMessage\": \"\", \"exceptionClass\": \"\", \"trace\": \"\", \"outcomeType\": 4}}, \"*\")"
      ],
      "text/plain": [
       "<IPython.core.display.Javascript object>"
      ]
     },
     "metadata": {},
     "output_type": "display_data"
    },
    {
     "data": {
      "text/markdown": [
       "<span style=\"color:#33cc99\">Solution:</span> Since the regression line has a slightly positive slope, this tells us that there is a slightly positive correlation between `'winpercent'` and `'sugarpercent'`. Thus, people have a slight preference for candies containing relatively more sugar."
      ],
      "text/plain": [
       "Solution: Since the regression line has a slightly positive slope, this tells us that there is a slightly positive correlation between `'winpercent'` and `'sugarpercent'`. Thus, people have a slight preference for candies containing relatively more sugar."
      ]
     },
     "metadata": {},
     "output_type": "display_data"
    }
   ],
   "source": [
    "# Check your answer (Run this code cell to receive credit!)\n",
    "step_4.b.solution()"
   ]
  },
  {
   "cell_type": "markdown",
   "id": "4701480f",
   "metadata": {
    "papermill": {
     "duration": 0.01067,
     "end_time": "2022-09-12T22:31:45.671957",
     "exception": false,
     "start_time": "2022-09-12T22:31:45.661287",
     "status": "completed"
    },
    "tags": []
   },
   "source": [
    "## Step 5: Chocolate!\n",
    "\n",
    "In the code cell below, create a scatter plot to show the relationship between `'pricepercent'` (on the horizontal x-axis) and `'winpercent'` (on the vertical y-axis). Use the `'chocolate'` column to color-code the points.  _Don't add any regression lines just yet -- you'll do that in the next step!_"
   ]
  },
  {
   "cell_type": "code",
   "execution_count": 16,
   "id": "9fdf1f4f",
   "metadata": {
    "execution": {
     "iopub.execute_input": "2022-09-12T22:31:45.696223Z",
     "iopub.status.busy": "2022-09-12T22:31:45.695432Z",
     "iopub.status.idle": "2022-09-12T22:31:45.963897Z",
     "shell.execute_reply": "2022-09-12T22:31:45.962667Z"
    },
    "papermill": {
     "duration": 0.28345,
     "end_time": "2022-09-12T22:31:45.966392",
     "exception": false,
     "start_time": "2022-09-12T22:31:45.682942",
     "status": "completed"
    },
    "tags": []
   },
   "outputs": [
    {
     "data": {
      "application/javascript": [
       "parent.postMessage({\"jupyterEvent\": \"custom.exercise_interaction\", \"data\": {\"outcomeType\": 1, \"valueTowardsCompletion\": 0.3333333333333333, \"interactionType\": 1, \"questionType\": 2, \"questionId\": \"5_ColorScatter\", \"learnToolsVersion\": \"0.3.4\", \"failureMessage\": \"\", \"exceptionClass\": \"\", \"trace\": \"\"}}, \"*\")"
      ],
      "text/plain": [
       "<IPython.core.display.Javascript object>"
      ]
     },
     "metadata": {},
     "output_type": "display_data"
    },
    {
     "data": {
      "text/markdown": [
       "<span style=\"color:#33cc33\">Correct</span>"
      ],
      "text/plain": [
       "Correct"
      ]
     },
     "metadata": {},
     "output_type": "display_data"
    },
    {
     "data": {
      "image/png": "[encoded data removed]",
      "text/plain": [
       "<Figure size 432x288 with 1 Axes>"
      ]
     },
     "metadata": {
      "needs_background": "light"
     },
     "output_type": "display_data"
    }
   ],
   "source": [
    "# Scatter plot showing the relationship between 'pricepercent', 'winpercent', and 'chocolate'\n",
    "____ # Your code here\n",
    "sns.scatterplot(x=\"pricepercent\", y='winpercent',data=candy_data, hue=\"chocolate\")\n",
    "# Check your answer\n",
    "step_5.check()"
   ]
  },
  {
   "cell_type": "code",
   "execution_count": 17,
   "id": "8c6a0126",
   "metadata": {
    "execution": {
     "iopub.execute_input": "2022-09-12T22:31:45.992467Z",
     "iopub.status.busy": "2022-09-12T22:31:45.991725Z",
     "iopub.status.idle": "2022-09-12T22:31:45.997066Z",
     "shell.execute_reply": "2022-09-12T22:31:45.995900Z"
    },
    "papermill": {
     "duration": 0.021467,
     "end_time": "2022-09-12T22:31:45.999645",
     "exception": false,
     "start_time": "2022-09-12T22:31:45.978178",
     "status": "completed"
    },
    "tags": []
   },
   "outputs": [],
   "source": [
    "# Lines below will give you a hint or solution code\n",
    "#step_5.hint()\n",
    "#step_5.solution_plot()"
   ]
  },
  {
   "cell_type": "markdown",
   "id": "448e0000",
   "metadata": {
    "papermill": {
     "duration": 0.011525,
     "end_time": "2022-09-12T22:31:46.023170",
     "exception": false,
     "start_time": "2022-09-12T22:31:46.011645",
     "status": "completed"
    },
    "tags": []
   },
   "source": [
    "Can you see any interesting patterns in the scatter plot?  We'll investigate this plot further  by adding regression lines in the next step!\n",
    "\n",
    "## Step 6: Investigate chocolate\n",
    "\n",
    "#### Part A\n",
    "\n",
    "Create the same scatter plot you created in **Step 5**, but now with two regression lines, corresponding to (1) chocolate candies and (2) candies without chocolate."
   ]
  },
  {
   "cell_type": "code",
   "execution_count": 18,
   "id": "4095b771",
   "metadata": {
    "execution": {
     "iopub.execute_input": "2022-09-12T22:31:46.048702Z",
     "iopub.status.busy": "2022-09-12T22:31:46.048258Z",
     "iopub.status.idle": "2022-09-12T22:31:46.684566Z",
     "shell.execute_reply": "2022-09-12T22:31:46.683326Z"
    },
    "papermill": {
     "duration": 0.652132,
     "end_time": "2022-09-12T22:31:46.687174",
     "exception": false,
     "start_time": "2022-09-12T22:31:46.035042",
     "status": "completed"
    },
    "tags": []
   },
   "outputs": [
    {
     "data": {
      "application/javascript": [
       "parent.postMessage({\"jupyterEvent\": \"custom.exercise_interaction\", \"data\": {\"outcomeType\": 1, \"valueTowardsCompletion\": 0.3333333333333333, \"interactionType\": 1, \"questionType\": 2, \"questionId\": \"6.1_PlotColorReg\", \"learnToolsVersion\": \"0.3.4\", \"failureMessage\": \"\", \"exceptionClass\": \"\", \"trace\": \"\"}}, \"*\")"
      ],
      "text/plain": [
       "<IPython.core.display.Javascript object>"
      ]
     },
     "metadata": {},
     "output_type": "display_data"
    },
    {
     "data": {
      "text/markdown": [
       "<span style=\"color:#33cc33\">Correct</span>"
      ],
      "text/plain": [
       "Correct"
      ]
     },
     "metadata": {},
     "output_type": "display_data"
    },
    {
     "data": {
      "image/png": "[encoded data removed]",
      "text/plain": [
       "<Figure size 416.375x360 with 1 Axes>"
      ]
     },
     "metadata": {
      "needs_background": "light"
     },
     "output_type": "display_data"
    }
   ],
   "source": [
    "# Color-coded scatter plot w/ regression lines\n",
    "____ # Your code here\n",
    "sns.lmplot(x=\"pricepercent\", y='winpercent',data=candy_data, hue=\"chocolate\")\n",
    "# Check your answer\n",
    "step_6.a.check()"
   ]
  },
  {
   "cell_type": "code",
   "execution_count": 19,
   "id": "37124622",
   "metadata": {
    "execution": {
     "iopub.execute_input": "2022-09-12T22:31:46.714414Z",
     "iopub.status.busy": "2022-09-12T22:31:46.714022Z",
     "iopub.status.idle": "2022-09-12T22:31:46.718799Z",
     "shell.execute_reply": "2022-09-12T22:31:46.717676Z"
    },
    "papermill": {
     "duration": 0.021049,
     "end_time": "2022-09-12T22:31:46.720985",
     "exception": false,
     "start_time": "2022-09-12T22:31:46.699936",
     "status": "completed"
    },
    "tags": []
   },
   "outputs": [],
   "source": [
    "# Lines below will give you a hint or solution code\n",
    "#step_6.a.hint()\n",
    "#step_6.a.solution_plot()"
   ]
  },
  {
   "cell_type": "markdown",
   "id": "768de7c8",
   "metadata": {
    "papermill": {
     "duration": 0.012234,
     "end_time": "2022-09-12T22:31:46.745923",
     "exception": false,
     "start_time": "2022-09-12T22:31:46.733689",
     "status": "completed"
    },
    "tags": []
   },
   "source": [
    "#### Part B\n",
    "\n",
    "Using the regression lines, what conclusions can you draw about the effects of chocolate and price on candy popularity?"
   ]
  },
  {
   "cell_type": "code",
   "execution_count": 20,
   "id": "84a3ff23",
   "metadata": {
    "execution": {
     "iopub.execute_input": "2022-09-12T22:31:46.772876Z",
     "iopub.status.busy": "2022-09-12T22:31:46.772440Z",
     "iopub.status.idle": "2022-09-12T22:31:46.776325Z",
     "shell.execute_reply": "2022-09-12T22:31:46.775553Z"
    },
    "papermill": {
     "duration": 0.019837,
     "end_time": "2022-09-12T22:31:46.778195",
     "exception": false,
     "start_time": "2022-09-12T22:31:46.758358",
     "status": "completed"
    },
    "tags": []
   },
   "outputs": [],
   "source": [
    "#step_6.b.hint()"
   ]
  },
  {
   "cell_type": "code",
   "execution_count": 21,
   "id": "2c019355",
   "metadata": {
    "execution": {
     "iopub.execute_input": "2022-09-12T22:31:46.805775Z",
     "iopub.status.busy": "2022-09-12T22:31:46.804688Z",
     "iopub.status.idle": "2022-09-12T22:31:46.813347Z",
     "shell.execute_reply": "2022-09-12T22:31:46.812164Z"
    },
    "papermill": {
     "duration": 0.024772,
     "end_time": "2022-09-12T22:31:46.815708",
     "exception": false,
     "start_time": "2022-09-12T22:31:46.790936",
     "status": "completed"
    },
    "tags": []
   },
   "outputs": [
    {
     "data": {
      "application/javascript": [
       "parent.postMessage({\"jupyterEvent\": \"custom.exercise_interaction\", \"data\": {\"interactionType\": 3, \"questionType\": 4, \"questionId\": \"6.2_ThinkColorReg\", \"learnToolsVersion\": \"0.3.4\", \"valueTowardsCompletion\": 0.0, \"failureMessage\": \"\", \"exceptionClass\": \"\", \"trace\": \"\", \"outcomeType\": 4}}, \"*\")"
      ],
      "text/plain": [
       "<IPython.core.display.Javascript object>"
      ]
     },
     "metadata": {},
     "output_type": "display_data"
    },
    {
     "data": {
      "text/markdown": [
       "<span style=\"color:#33cc99\">Solution:</span> We'll begin with the regression line for chocolate candies. Since this line has a slightly positive slope, we can say that more expensive chocolate candies tend to be more popular (than relatively cheaper chocolate candies).  Likewise, since the regression line for candies without chocolate has a negative slope, we can say that if candies don't contain chocolate, they tend to be more popular when they are cheaper.  One important note, however, is that the dataset is quite small -- so we shouldn't invest too much trust in these patterns!  To inspire more confidence in the results, we should add more candies to the dataset."
      ],
      "text/plain": [
       "Solution: We'll begin with the regression line for chocolate candies. Since this line has a slightly positive slope, we can say that more expensive chocolate candies tend to be more popular (than relatively cheaper chocolate candies).  Likewise, since the regression line for candies without chocolate has a negative slope, we can say that if candies don't contain chocolate, they tend to be more popular when they are cheaper.  One important note, however, is that the dataset is quite small -- so we shouldn't invest too much trust in these patterns!  To inspire more confidence in the results, we should add more candies to the dataset."
      ]
     },
     "metadata": {},
     "output_type": "display_data"
    }
   ],
   "source": [
    "# Check your answer (Run this code cell to receive credit!)\n",
    "step_6.b.solution()"
   ]
  },
  {
   "cell_type": "markdown",
   "id": "316b14a7",
   "metadata": {
    "papermill": {
     "duration": 0.012615,
     "end_time": "2022-09-12T22:31:46.841078",
     "exception": false,
     "start_time": "2022-09-12T22:31:46.828463",
     "status": "completed"
    },
    "tags": []
   },
   "source": [
    "## Step 7: Everybody loves chocolate.\n",
    "\n",
    "#### Part A\n",
    "\n",
    "Create a categorical scatter plot to highlight the relationship between `'chocolate'` and `'winpercent'`.  Put `'chocolate'` on the (horizontal) x-axis, and `'winpercent'` on the (vertical) y-axis."
   ]
  },
  {
   "cell_type": "code",
   "execution_count": 22,
   "id": "4b06bb4e",
   "metadata": {
    "execution": {
     "iopub.execute_input": "2022-09-12T22:31:46.868229Z",
     "iopub.status.busy": "2022-09-12T22:31:46.867813Z",
     "iopub.status.idle": "2022-09-12T22:31:47.092089Z",
     "shell.execute_reply": "2022-09-12T22:31:47.090992Z"
    },
    "papermill": {
     "duration": 0.241178,
     "end_time": "2022-09-12T22:31:47.095029",
     "exception": false,
     "start_time": "2022-09-12T22:31:46.853851",
     "status": "completed"
    },
    "tags": []
   },
   "outputs": [
    {
     "data": {
      "application/javascript": [
       "parent.postMessage({\"jupyterEvent\": \"custom.exercise_interaction\", \"data\": {\"outcomeType\": 1, \"valueTowardsCompletion\": 0.3333333333333333, \"interactionType\": 1, \"questionType\": 2, \"questionId\": \"7.1_PlotSwarm\", \"learnToolsVersion\": \"0.3.4\", \"failureMessage\": \"\", \"exceptionClass\": \"\", \"trace\": \"\"}}, \"*\")"
      ],
      "text/plain": [
       "<IPython.core.display.Javascript object>"
      ]
     },
     "metadata": {},
     "output_type": "display_data"
    },
    {
     "data": {
      "text/markdown": [
       "<span style=\"color:#33cc33\">Correct</span>"
      ],
      "text/plain": [
       "Correct"
      ]
     },
     "metadata": {},
     "output_type": "display_data"
    },
    {
     "data": {
      "image/png": "[encoded data removed]",
      "text/plain": [
       "<Figure size 432x288 with 1 Axes>"
      ]
     },
     "metadata": {
      "needs_background": "light"
     },
     "output_type": "display_data"
    }
   ],
   "source": [
    "# Scatter plot showing the relationship between 'chocolate' and 'winpercent'\n",
    "____ # Your code here\n",
    "sns.swarmplot(x=candy_data[\"chocolate\"], y=candy_data[\"winpercent\"])\n",
    "# Check your answer\n",
    "step_7.a.check()"
   ]
  },
  {
   "cell_type": "code",
   "execution_count": 23,
   "id": "63c5517c",
   "metadata": {
    "execution": {
     "iopub.execute_input": "2022-09-12T22:31:47.124004Z",
     "iopub.status.busy": "2022-09-12T22:31:47.122995Z",
     "iopub.status.idle": "2022-09-12T22:31:47.127782Z",
     "shell.execute_reply": "2022-09-12T22:31:47.126667Z"
    },
    "papermill": {
     "duration": 0.021695,
     "end_time": "2022-09-12T22:31:47.130161",
     "exception": false,
     "start_time": "2022-09-12T22:31:47.108466",
     "status": "completed"
    },
    "tags": []
   },
   "outputs": [],
   "source": [
    "# Lines below will give you a hint or solution code\n",
    "#step_7.a.hint()\n",
    "#step_7.a.solution_plot()"
   ]
  },
  {
   "cell_type": "markdown",
   "id": "d0eea758",
   "metadata": {
    "papermill": {
     "duration": 0.013363,
     "end_time": "2022-09-12T22:31:47.157079",
     "exception": false,
     "start_time": "2022-09-12T22:31:47.143716",
     "status": "completed"
    },
    "tags": []
   },
   "source": [
    "#### Part B\n",
    "\n",
    "You decide to dedicate a section of your report to the fact that chocolate candies tend to be more popular than candies without chocolate.  Which plot is more appropriate to tell this story: the plot from **Step 6**, or the plot from **Step 7**?"
   ]
  },
  {
   "cell_type": "code",
   "execution_count": 24,
   "id": "2ed953bf",
   "metadata": {
    "execution": {
     "iopub.execute_input": "2022-09-12T22:31:47.184921Z",
     "iopub.status.busy": "2022-09-12T22:31:47.184486Z",
     "iopub.status.idle": "2022-09-12T22:31:47.189128Z",
     "shell.execute_reply": "2022-09-12T22:31:47.188236Z"
    },
    "papermill": {
     "duration": 0.021182,
     "end_time": "2022-09-12T22:31:47.191393",
     "exception": false,
     "start_time": "2022-09-12T22:31:47.170211",
     "status": "completed"
    },
    "tags": []
   },
   "outputs": [
    {
     "name": "stdout",
     "output_type": "stream",
     "text": [
      "step 7\n"
     ]
    }
   ],
   "source": [
    "#step_7.b.hint()\n",
    "print('step 7')"
   ]
  },
  {
   "cell_type": "code",
   "execution_count": 25,
   "id": "da377011",
   "metadata": {
    "execution": {
     "iopub.execute_input": "2022-09-12T22:31:47.220097Z",
     "iopub.status.busy": "2022-09-12T22:31:47.219721Z",
     "iopub.status.idle": "2022-09-12T22:31:47.226929Z",
     "shell.execute_reply": "2022-09-12T22:31:47.226094Z"
    },
    "papermill": {
     "duration": 0.023952,
     "end_time": "2022-09-12T22:31:47.228953",
     "exception": false,
     "start_time": "2022-09-12T22:31:47.205001",
     "status": "completed"
    },
    "tags": []
   },
   "outputs": [
    {
     "data": {
      "application/javascript": [
       "parent.postMessage({\"jupyterEvent\": \"custom.exercise_interaction\", \"data\": {\"interactionType\": 3, \"questionType\": 4, \"questionId\": \"7.2_ThinkSwarm\", \"learnToolsVersion\": \"0.3.4\", \"valueTowardsCompletion\": 0.0, \"failureMessage\": \"\", \"exceptionClass\": \"\", \"trace\": \"\", \"outcomeType\": 4}}, \"*\")"
      ],
      "text/plain": [
       "<IPython.core.display.Javascript object>"
      ]
     },
     "metadata": {},
     "output_type": "display_data"
    },
    {
     "data": {
      "text/markdown": [
       "<span style=\"color:#33cc99\">Solution:</span> In this case, the categorical scatter plot from **Step 7** is the more appropriate plot. While both plots tell the desired story, the plot from **Step 6** conveys far more information that could distract from the main point."
      ],
      "text/plain": [
       "Solution: In this case, the categorical scatter plot from **Step 7** is the more appropriate plot. While both plots tell the desired story, the plot from **Step 6** conveys far more information that could distract from the main point."
      ]
     },
     "metadata": {},
     "output_type": "display_data"
    }
   ],
   "source": [
    "# Check your answer (Run this code cell to receive credit!)\n",
    "step_7.b.solution()"
   ]
  },
  {
   "cell_type": "markdown",
   "id": "89d9843d",
   "metadata": {
    "papermill": {
     "duration": 0.013146,
     "end_time": "2022-09-12T22:31:47.255691",
     "exception": false,
     "start_time": "2022-09-12T22:31:47.242545",
     "status": "completed"
    },
    "tags": []
   },
   "source": [
    "## Keep going\n",
    "\n",
    "Explore **[histograms and density plots](https://www.kaggle.com/alexisbcook/distributions)**."
   ]
  },
  {
   "cell_type": "markdown",
   "id": "ad7a747e",
   "metadata": {
    "papermill": {
     "duration": 0.013173,
     "end_time": "2022-09-12T22:31:47.282288",
     "exception": false,
     "start_time": "2022-09-12T22:31:47.269115",
     "status": "completed"
    },
    "tags": []
   },
   "source": [
    "---\n",
    "\n",
    "\n",
    "\n",
    "\n",
    "*Have questions or comments? Visit the [course discussion forum](https://www.kaggle.com/learn/data-visualization/discussion) to chat with other learners.*"
   ]
  }
 ],
 "metadata": {
  "kernelspec": {
   "display_name": "Python 3",
   "language": "python",
   "name": "python3"
  },
  "language_info": {
   "codemirror_mode": {
    "name": "ipython",
    "version": 3
   },
   "file_extension": ".py",
   "mimetype": "text/x-python",
   "name": "python",
   "nbconvert_exporter": "python",
   "pygments_lexer": "ipython3",
   "version": "3.7.12"
  },
  "papermill": {
   "default_parameters": {},
   "duration": 13.721325,
   "end_time": "2022-09-12T22:31:48.017609",
   "environment_variables": {},
   "exception": null,
   "input_path": "__notebook__.ipynb",
   "output_path": "__notebook__.ipynb",
   "parameters": {},
   "start_time": "2022-09-12T22:31:34.296284",
   "version": "2.3.4"
  }
 },
 "nbformat": 4,
 "nbformat_minor": 5
}
